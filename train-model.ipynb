{
  "cells": [
    {
      "cell_type": "code",
      "execution_count": 2,
      "metadata": {
        "id": "_LBSGzK-7ZhQ"
      },
      "outputs": [],
      "source": [
        "import tensorflow as tf\n",
        "import numpy as np\n",
        "from tensorflow import keras"
      ]
    },
    {
      "cell_type": "code",
      "execution_count": 3,
      "metadata": {
        "colab": {
          "base_uri": "https://localhost:8080/"
        },
        "id": "xWzj6qWY_ZZS",
        "outputId": "b9edbe35-c9e3-412a-e718-d799eda8ccfa"
      },
      "outputs": [],
      "source": [
        "model = tf.keras.Sequential([\n",
        "    keras.layers.Dense(units=4, input_shape=[1]),\n",
        "    keras.layers.Dense(units=8),\n",
        "    keras.layers.Dense(units=1)\n",
        "])"
      ]
    },
    {
      "cell_type": "code",
      "execution_count": 4,
      "metadata": {
        "colab": {
          "base_uri": "https://localhost:8080/"
        },
        "id": "C-XgRf-S_n0a",
        "outputId": "6e76c191-89dc-4b21-d705-c4eafec6b0c6"
      },
      "outputs": [
        {
          "name": "stdout",
          "output_type": "stream",
          "text": [
            "Epoch 1/100\n",
            "1/1 [==============================] - 2s 2s/step - loss: 295.6735\n",
            "Epoch 2/100\n",
            "1/1 [==============================] - 0s 11ms/step - loss: 294.3817\n",
            "Epoch 3/100\n",
            "1/1 [==============================] - 0s 8ms/step - loss: 293.0956\n",
            "Epoch 4/100\n",
            "1/1 [==============================] - 0s 11ms/step - loss: 291.8152\n",
            "Epoch 5/100\n",
            "1/1 [==============================] - 0s 12ms/step - loss: 290.5408\n",
            "Epoch 6/100\n",
            "1/1 [==============================] - 0s 10ms/step - loss: 289.2722\n",
            "Epoch 7/100\n",
            "1/1 [==============================] - 0s 6ms/step - loss: 288.0096\n",
            "Epoch 8/100\n",
            "1/1 [==============================] - 0s 11ms/step - loss: 286.7531\n",
            "Epoch 9/100\n",
            "1/1 [==============================] - 0s 8ms/step - loss: 285.5026\n",
            "Epoch 10/100\n",
            "1/1 [==============================] - 0s 17ms/step - loss: 284.2583\n",
            "Epoch 11/100\n",
            "1/1 [==============================] - 0s 17ms/step - loss: 283.0201\n",
            "Epoch 12/100\n",
            "1/1 [==============================] - 0s 18ms/step - loss: 281.7882\n",
            "Epoch 13/100\n",
            "1/1 [==============================] - 0s 81ms/step - loss: 280.5624\n",
            "Epoch 14/100\n",
            "1/1 [==============================] - 0s 13ms/step - loss: 279.3429\n",
            "Epoch 15/100\n",
            "1/1 [==============================] - 0s 13ms/step - loss: 278.1296\n",
            "Epoch 16/100\n",
            "1/1 [==============================] - 0s 14ms/step - loss: 276.9226\n",
            "Epoch 17/100\n",
            "1/1 [==============================] - 0s 12ms/step - loss: 275.7218\n",
            "Epoch 18/100\n",
            "1/1 [==============================] - 0s 13ms/step - loss: 274.5272\n",
            "Epoch 19/100\n",
            "1/1 [==============================] - 0s 13ms/step - loss: 273.3389\n",
            "Epoch 20/100\n",
            "1/1 [==============================] - 0s 19ms/step - loss: 272.1567\n",
            "Epoch 21/100\n",
            "1/1 [==============================] - 0s 9ms/step - loss: 270.9808\n",
            "Epoch 22/100\n",
            "1/1 [==============================] - 0s 16ms/step - loss: 269.8109\n",
            "Epoch 23/100\n",
            "1/1 [==============================] - 0s 11ms/step - loss: 268.6472\n",
            "Epoch 24/100\n",
            "1/1 [==============================] - 0s 10ms/step - loss: 267.4896\n",
            "Epoch 25/100\n",
            "1/1 [==============================] - 0s 8ms/step - loss: 266.3379\n",
            "Epoch 26/100\n",
            "1/1 [==============================] - 0s 13ms/step - loss: 265.1922\n",
            "Epoch 27/100\n",
            "1/1 [==============================] - 0s 18ms/step - loss: 264.0524\n",
            "Epoch 28/100\n",
            "1/1 [==============================] - 0s 27ms/step - loss: 262.9184\n",
            "Epoch 29/100\n",
            "1/1 [==============================] - 0s 16ms/step - loss: 261.7902\n",
            "Epoch 30/100\n",
            "1/1 [==============================] - 0s 9ms/step - loss: 260.6676\n",
            "Epoch 31/100\n",
            "1/1 [==============================] - 0s 14ms/step - loss: 259.5507\n",
            "Epoch 32/100\n",
            "1/1 [==============================] - 0s 20ms/step - loss: 258.4393\n",
            "Epoch 33/100\n",
            "1/1 [==============================] - 0s 12ms/step - loss: 257.3333\n",
            "Epoch 34/100\n",
            "1/1 [==============================] - 0s 36ms/step - loss: 256.2325\n",
            "Epoch 35/100\n",
            "1/1 [==============================] - 0s 14ms/step - loss: 255.1370\n",
            "Epoch 36/100\n",
            "1/1 [==============================] - 0s 26ms/step - loss: 254.0467\n",
            "Epoch 37/100\n",
            "1/1 [==============================] - 0s 23ms/step - loss: 252.9613\n",
            "Epoch 38/100\n",
            "1/1 [==============================] - 0s 49ms/step - loss: 251.8809\n",
            "Epoch 39/100\n",
            "1/1 [==============================] - 0s 14ms/step - loss: 250.8052\n",
            "Epoch 40/100\n",
            "1/1 [==============================] - 0s 12ms/step - loss: 249.7342\n",
            "Epoch 41/100\n",
            "1/1 [==============================] - 0s 12ms/step - loss: 248.6677\n",
            "Epoch 42/100\n",
            "1/1 [==============================] - 0s 22ms/step - loss: 247.6057\n",
            "Epoch 43/100\n",
            "1/1 [==============================] - 0s 17ms/step - loss: 246.5479\n",
            "Epoch 44/100\n",
            "1/1 [==============================] - 0s 16ms/step - loss: 245.4942\n",
            "Epoch 45/100\n",
            "1/1 [==============================] - 0s 22ms/step - loss: 244.4447\n",
            "Epoch 46/100\n",
            "1/1 [==============================] - 0s 18ms/step - loss: 243.3989\n",
            "Epoch 47/100\n",
            "1/1 [==============================] - 0s 15ms/step - loss: 242.3569\n",
            "Epoch 48/100\n",
            "1/1 [==============================] - 0s 21ms/step - loss: 241.3185\n",
            "Epoch 49/100\n",
            "1/1 [==============================] - 0s 22ms/step - loss: 240.2836\n",
            "Epoch 50/100\n",
            "1/1 [==============================] - 0s 9ms/step - loss: 239.2520\n",
            "Epoch 51/100\n",
            "1/1 [==============================] - 0s 14ms/step - loss: 238.2235\n",
            "Epoch 52/100\n",
            "1/1 [==============================] - 0s 15ms/step - loss: 237.1981\n",
            "Epoch 53/100\n",
            "1/1 [==============================] - 0s 31ms/step - loss: 236.1755\n",
            "Epoch 54/100\n",
            "1/1 [==============================] - 0s 9ms/step - loss: 235.1556\n",
            "Epoch 55/100\n",
            "1/1 [==============================] - 0s 7ms/step - loss: 234.1383\n",
            "Epoch 56/100\n",
            "1/1 [==============================] - 0s 5ms/step - loss: 233.1235\n",
            "Epoch 57/100\n",
            "1/1 [==============================] - 0s 8ms/step - loss: 232.1109\n",
            "Epoch 58/100\n",
            "1/1 [==============================] - 0s 8ms/step - loss: 231.1004\n",
            "Epoch 59/100\n",
            "1/1 [==============================] - 0s 17ms/step - loss: 230.0920\n",
            "Epoch 60/100\n",
            "1/1 [==============================] - 0s 13ms/step - loss: 229.0854\n",
            "Epoch 61/100\n",
            "1/1 [==============================] - 0s 12ms/step - loss: 228.0805\n",
            "Epoch 62/100\n",
            "1/1 [==============================] - 0s 18ms/step - loss: 227.0771\n",
            "Epoch 63/100\n",
            "1/1 [==============================] - 0s 46ms/step - loss: 226.0752\n",
            "Epoch 64/100\n",
            "1/1 [==============================] - 0s 10ms/step - loss: 225.0746\n",
            "Epoch 65/100\n",
            "1/1 [==============================] - 0s 11ms/step - loss: 224.0751\n",
            "Epoch 66/100\n",
            "1/1 [==============================] - 0s 15ms/step - loss: 223.0767\n",
            "Epoch 67/100\n",
            "1/1 [==============================] - 0s 12ms/step - loss: 222.0793\n",
            "Epoch 68/100\n",
            "1/1 [==============================] - 0s 12ms/step - loss: 221.0826\n",
            "Epoch 69/100\n",
            "1/1 [==============================] - 0s 11ms/step - loss: 220.0866\n",
            "Epoch 70/100\n",
            "1/1 [==============================] - 0s 11ms/step - loss: 219.0912\n",
            "Epoch 71/100\n",
            "1/1 [==============================] - 0s 8ms/step - loss: 218.0963\n",
            "Epoch 72/100\n",
            "1/1 [==============================] - 0s 25ms/step - loss: 217.1017\n",
            "Epoch 73/100\n",
            "1/1 [==============================] - 0s 10ms/step - loss: 216.1074\n",
            "Epoch 74/100\n",
            "1/1 [==============================] - 0s 20ms/step - loss: 215.1133\n",
            "Epoch 75/100\n",
            "1/1 [==============================] - 0s 14ms/step - loss: 214.1192\n",
            "Epoch 76/100\n",
            "1/1 [==============================] - 0s 25ms/step - loss: 213.1252\n",
            "Epoch 77/100\n",
            "1/1 [==============================] - 0s 19ms/step - loss: 212.1310\n",
            "Epoch 78/100\n",
            "1/1 [==============================] - 0s 12ms/step - loss: 211.1367\n",
            "Epoch 79/100\n",
            "1/1 [==============================] - 0s 11ms/step - loss: 210.1421\n",
            "Epoch 80/100\n",
            "1/1 [==============================] - 0s 12ms/step - loss: 209.1472\n",
            "Epoch 81/100\n",
            "1/1 [==============================] - 0s 7ms/step - loss: 208.1519\n",
            "Epoch 82/100\n",
            "1/1 [==============================] - 0s 16ms/step - loss: 207.1562\n",
            "Epoch 83/100\n",
            "1/1 [==============================] - 0s 17ms/step - loss: 206.1599\n",
            "Epoch 84/100\n",
            "1/1 [==============================] - 0s 11ms/step - loss: 205.1631\n",
            "Epoch 85/100\n",
            "1/1 [==============================] - 0s 13ms/step - loss: 204.1656\n",
            "Epoch 86/100\n",
            "1/1 [==============================] - 0s 17ms/step - loss: 203.1674\n",
            "Epoch 87/100\n",
            "1/1 [==============================] - 0s 9ms/step - loss: 202.1685\n",
            "Epoch 88/100\n",
            "1/1 [==============================] - 0s 10ms/step - loss: 201.1688\n",
            "Epoch 89/100\n",
            "1/1 [==============================] - 0s 12ms/step - loss: 200.1682\n",
            "Epoch 90/100\n",
            "1/1 [==============================] - 0s 8ms/step - loss: 199.1667\n",
            "Epoch 91/100\n",
            "1/1 [==============================] - 0s 8ms/step - loss: 198.1643\n",
            "Epoch 92/100\n",
            "1/1 [==============================] - 0s 64ms/step - loss: 197.1610\n",
            "Epoch 93/100\n",
            "1/1 [==============================] - 0s 7ms/step - loss: 196.1566\n",
            "Epoch 94/100\n",
            "1/1 [==============================] - 0s 34ms/step - loss: 195.1512\n",
            "Epoch 95/100\n",
            "1/1 [==============================] - 0s 15ms/step - loss: 194.1447\n",
            "Epoch 96/100\n",
            "1/1 [==============================] - 0s 8ms/step - loss: 193.1371\n",
            "Epoch 97/100\n",
            "1/1 [==============================] - 0s 9ms/step - loss: 192.1284\n",
            "Epoch 98/100\n",
            "1/1 [==============================] - 0s 31ms/step - loss: 191.1185\n",
            "Epoch 99/100\n",
            "1/1 [==============================] - 0s 18ms/step - loss: 190.1075\n",
            "Epoch 100/100\n",
            "1/1 [==============================] - 0s 11ms/step - loss: 189.0952\n"
          ]
        },
        {
          "data": {
            "text/plain": [
              "<keras.callbacks.History at 0x215e55da5f0>"
            ]
          },
          "execution_count": 4,
          "metadata": {},
          "output_type": "execute_result"
        }
      ],
      "source": [
        "input_data = np.array([-2.0, -1.0, 0.0, 1.0, 2.0, 3.0, 4.0, 5.0])\n",
        "expected_output = np.array([-13.0, -7.0, -1.0, 5.0, 11.0, 17.0, 23.0, 29.0])\n",
        "model.compile(optimizer='adam', loss='mean_squared_error')\n",
        "model.fit(input_data, expected_output, epochs=100)"
      ]
    },
    {
      "cell_type": "code",
      "execution_count": 5,
      "metadata": {
        "colab": {
          "base_uri": "https://localhost:8080/"
        },
        "id": "NF7orpDtEW4b",
        "outputId": "a9c20f0e-9941-4a2d-badd-3c5fd9021cdd"
      },
      "outputs": [
        {
          "name": "stdout",
          "output_type": "stream",
          "text": [
            "1/1 [==============================] - 0s 125ms/step\n",
            "1/1 [==============================] - 0s 42ms/step\n",
            "Predicted output: [[4.074176]]\n"
          ]
        }
      ],
      "source": [
        "new_value = np.array([5.0])\n",
        "prediction = model.predict(new_value)\n",
        "\n",
        "print(\"Predicted output:\", model.predict(new_value))"
      ]
    },
    {
      "cell_type": "code",
      "execution_count": 6,
      "metadata": {
        "id": "I5toFspvEe85"
      },
      "outputs": [
        {
          "name": "stdout",
          "output_type": "stream",
          "text": [
            "INFO:tensorflow:Assets written to: model1\\assets\n"
          ]
        }
      ],
      "source": [
        "model.save('model1')"
      ]
    },
    {
      "cell_type": "code",
      "execution_count": null,
      "metadata": {},
      "outputs": [],
      "source": [
        "# install this\n",
        "# !pip install fastapi nest-asyncio pyngrok uvicorn"
      ]
    },
    {
      "cell_type": "code",
      "execution_count": null,
      "metadata": {},
      "outputs": [
        {
          "name": "stderr",
          "output_type": "stream",
          "text": [
            "INFO:     Started server process [5676]\n",
            "INFO:     Waiting for application startup.\n",
            "INFO:     Application startup complete.\n",
            "INFO:     Uvicorn running on http://127.0.0.1:8000 (Press CTRL+C to quit)\n"
          ]
        },
        {
          "name": "stdout",
          "output_type": "stream",
          "text": [
            "1/1 [==============================] - 0s 136ms/step\n",
            "INFO:     127.0.0.1:56228 - \"POST /predict/ HTTP/1.1\" 200 OK\n"
          ]
        }
      ],
      "source": [
        "# import tensorflow as tf\n",
        "import asyncio\n",
        "from fastapi import FastAPI\n",
        "from uvicorn import Config, Server\n",
        "from pydantic import BaseModel\n",
        "\n",
        "# import numpy as np\n",
        "\n",
        "MODEL = tf.keras.models.load_model('model1/')\n",
        "app = FastAPI()\n",
        "\n",
        "class UserInput(BaseModel):\n",
        "    user_input: float\n",
        "\n",
        "@app.get('/')\n",
        "async def index():\n",
        "    return {\"Message\": \"Hello World!\"}\n",
        "config = Config(app)\n",
        "server = Server(config=config)\n",
        "\n",
        "loop = asyncio.get_event_loop()\n",
        "loop.create_task(server.serve())\n",
        "\n",
        "@app.post('/predict/')\n",
        "async def predict(UserInput: UserInput):\n",
        "\n",
        "    prediction = MODEL.predict([UserInput.user_input])\n",
        "\n",
        "    return {\"prediction\": float(prediction)}"
      ]
    },
    {
      "cell_type": "code",
      "execution_count": null,
      "metadata": {},
      "outputs": [],
      "source": []
    }
  ],
  "metadata": {
    "colab": {
      "provenance": []
    },
    "kernelspec": {
      "display_name": "Python 3",
      "name": "python3"
    },
    "language_info": {
      "codemirror_mode": {
        "name": "ipython",
        "version": 3
      },
      "file_extension": ".py",
      "mimetype": "text/x-python",
      "name": "python",
      "nbconvert_exporter": "python",
      "pygments_lexer": "ipython3",
      "version": "3.10.8"
    }
  },
  "nbformat": 4,
  "nbformat_minor": 0
}
