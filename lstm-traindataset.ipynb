{
  "cells": [
    {
      "cell_type": "code",
      "execution_count": 13,
      "metadata": {
        "id": "PJjOtM50u7P1"
      },
      "outputs": [
        {
          "ename": "ModuleNotFoundError",
          "evalue": "No module named 'pandas'",
          "output_type": "error",
          "traceback": [
            "\u001b[1;31m---------------------------------------------------------------------------\u001b[0m",
            "\u001b[1;31mModuleNotFoundError\u001b[0m                       Traceback (most recent call last)",
            "\u001b[1;32mc:\\Users\\DELL\\Desktop\\pythonproj\\lstm-traindataset.ipynb Cell 1\u001b[0m in \u001b[0;36m1\n\u001b[1;32m----> <a href='vscode-notebook-cell:/c%3A/Users/DELL/Desktop/pythonproj/lstm-traindataset.ipynb#W0sZmlsZQ%3D%3D?line=0'>1</a>\u001b[0m \u001b[39mimport\u001b[39;00m \u001b[39mpandas\u001b[39;00m\n\u001b[0;32m      <a href='vscode-notebook-cell:/c%3A/Users/DELL/Desktop/pythonproj/lstm-traindataset.ipynb#W0sZmlsZQ%3D%3D?line=1'>2</a>\u001b[0m \u001b[39mimport\u001b[39;00m \u001b[39mmatplotlib\u001b[39;00m\u001b[39m.\u001b[39;00m\u001b[39mpyplot\u001b[39;00m \u001b[39mas\u001b[39;00m \u001b[39mplt\u001b[39;00m\n\u001b[0;32m      <a href='vscode-notebook-cell:/c%3A/Users/DELL/Desktop/pythonproj/lstm-traindataset.ipynb#W0sZmlsZQ%3D%3D?line=2'>3</a>\u001b[0m \u001b[39mfrom\u001b[39;00m \u001b[39msklearn\u001b[39;00m\u001b[39m.\u001b[39;00m\u001b[39mmodel_selection\u001b[39;00m \u001b[39mimport\u001b[39;00m train_test_split\n",
            "\u001b[1;31mModuleNotFoundError\u001b[0m: No module named 'pandas'"
          ]
        }
      ],
      "source": [
        "import pandas\n",
        "import matplotlib.pyplot as plt\n",
        "from sklearn.model_selection import train_test_split\n",
        "from keras.layers import LSTM, Dense, Embedding, MaxPooling1D, Conv1D, Dropout, SpatialDropout1D\n",
        "from keras.models import Sequential\n",
        "from keras.callbacks import ModelCheckpoint\n"
      ]
    },
    {
      "cell_type": "code",
      "execution_count": 12,
      "metadata": {},
      "outputs": [
        {
          "name": "stdout",
          "output_type": "stream",
          "text": [
            "Collecting pandas\n",
            "  Downloading pandas-2.0.1-cp310-cp310-win_amd64.whl (10.7 MB)\n",
            "     ------------------                       5.0/10.7 MB 72.2 kB/s eta 0:01:19\n"
          ]
        },
        {
          "name": "stderr",
          "output_type": "stream",
          "text": [
            "ERROR: THESE PACKAGES DO NOT MATCH THE HASHES FROM THE REQUIREMENTS FILE. If you have updated the package versions, please update the hashes. Otherwise, examine the package contents carefully; someone may have tampered with them.\n",
            "    pandas from https://files.pythonhosted.org/packages/90/30/8b857447b0f4b59d5bd84e934e82ef8c82b73d71d1c9611c8aaaa8d44a50/pandas-2.0.1-cp310-cp310-win_amd64.whl:\n",
            "        Expected sha256 2b6fe5f7ce1cba0e74188c8473c9091ead9b293ef0a6794939f8cc7947057abd\n",
            "             Got        2092543b06928e1658c392602caf40da20395b673260232c16fbdd4c58e915e0\n",
            "\n"
          ]
        }
      ],
      "source": [
        "!pip install pandas matplotlib.pyplot "
      ]
    },
    {
      "cell_type": "code",
      "execution_count": null,
      "metadata": {
        "colab": {
          "base_uri": "https://localhost:8080/"
        },
        "id": "HDZfoWf0u9fM",
        "outputId": "8ad723a9-502c-4c9f-eb21-f79dafcff35a"
      },
      "outputs": [
        {
          "name": "stdout",
          "output_type": "stream",
          "text": [
            "10175\n",
            "SEQN          int64\n",
            "SDDSRVYR      int64\n",
            "RIDSTATR      int64\n",
            "RIAGENDR      int64\n",
            "RIDAGEYR      int64\n",
            "RIDAGEMN    float64\n",
            "RIDRETH1      int64\n",
            "RIDRETH3      int64\n",
            "RIDEXMON    float64\n",
            "RIDEXAGM    float64\n",
            "DMQMILIZ    float64\n",
            "DMQADFC     float64\n",
            "DMDBORN4      int64\n",
            "DMDCITZN    float64\n",
            "DMDYRSUS    float64\n",
            "DMDEDUC3    float64\n",
            "DMDEDUC2    float64\n",
            "DMDMARTL    float64\n",
            "RIDEXPRG    float64\n",
            "SIALANG       int64\n",
            "SIAPROXY    float64\n",
            "SIAINTRP      int64\n",
            "FIALANG     float64\n",
            "FIAPROXY    float64\n",
            "FIAINTRP    float64\n",
            "MIALANG     float64\n",
            "MIAPROXY    float64\n",
            "MIAINTRP    float64\n",
            "AIALANGA    float64\n",
            "DMDHHSIZ      int64\n",
            "DMDFMSIZ      int64\n",
            "DMDHHSZA      int64\n",
            "DMDHHSZB      int64\n",
            "DMDHHSZE      int64\n",
            "DMDHRGND      int64\n",
            "DMDHRAGE      int64\n",
            "DMDHRBR4    float64\n",
            "DMDHREDU    float64\n",
            "DMDHRMAR    float64\n",
            "DMDHSEDU    float64\n",
            "WTINT2YR    float64\n",
            "WTMEC2YR    float64\n",
            "SDMVPSU       int64\n",
            "SDMVSTRA      int64\n",
            "INDHHIN2    float64\n",
            "INDFMIN2    float64\n",
            "INDFMPIR    float64\n",
            "dtype: object\n",
            "SEQN        int64\n",
            "SDDSRVYR    int64\n",
            "RIDSTATR    int64\n",
            "RIAGENDR    int64\n",
            "RIDAGEYR    int64\n",
            "RIDAGEMN    int64\n",
            "RIDRETH1    int64\n",
            "RIDRETH3    int64\n",
            "RIDEXMON    int64\n",
            "RIDEXAGM    int64\n",
            "DMQMILIZ    int64\n",
            "DMQADFC     int64\n",
            "DMDBORN4    int64\n",
            "DMDCITZN    int64\n",
            "DMDYRSUS    int64\n",
            "DMDEDUC3    int64\n",
            "DMDEDUC2    int64\n",
            "DMDMARTL    int64\n",
            "RIDEXPRG    int64\n",
            "SIALANG     int64\n",
            "SIAPROXY    int64\n",
            "SIAINTRP    int64\n",
            "FIALANG     int64\n",
            "FIAPROXY    int64\n",
            "FIAINTRP    int64\n",
            "MIALANG     int64\n",
            "MIAPROXY    int64\n",
            "MIAINTRP    int64\n",
            "AIALANGA    int64\n",
            "DMDHHSIZ    int64\n",
            "DMDFMSIZ    int64\n",
            "DMDHHSZA    int64\n",
            "DMDHHSZB    int64\n",
            "DMDHHSZE    int64\n",
            "DMDHRGND    int64\n",
            "DMDHRAGE    int64\n",
            "DMDHRBR4    int64\n",
            "DMDHREDU    int64\n",
            "DMDHRMAR    int64\n",
            "DMDHSEDU    int64\n",
            "WTINT2YR    int64\n",
            "WTMEC2YR    int64\n",
            "SDMVPSU     int64\n",
            "SDMVSTRA    int64\n",
            "INDHHIN2    int64\n",
            "INDFMIN2    int64\n",
            "INDFMPIR    int64\n",
            "dtype: object\n"
          ]
        }
      ],
      "source": [
        "data = pandas.read_csv(\"demographic.csv\")\n",
        "data = data.abs()\n",
        "print(len(data))\n",
        "data.fillna(0, inplace=True)\n",
        "print(data.dtypes)\n",
        "data = data.astype(int)\n",
        "print(data.dtypes)\n",
        "v = data.iloc[112]\n",
        "# print(v)\n",
        "f = v[5]\n",
        "# print(f)\n",
        "# print(data.head)\n",
        "# plt.plot(data)\n",
        "# plt.show()"
      ]
    },
    {
      "cell_type": "code",
      "execution_count": null,
      "metadata": {
        "colab": {
          "base_uri": "https://localhost:8080/"
        },
        "id": "xCxMgcBy-FXY",
        "outputId": "111a741b-e9f9-4fc9-b2ff-342be4b52331"
      },
      "outputs": [
        {
          "name": "stdout",
          "output_type": "stream",
          "text": [
            "Number of out-of-range values: 0\n"
          ]
        }
      ],
      "source": [
        "min_value = 0  # Minimum allowed value\n",
        "max_value = 1000000  # Maximum allowed value\n",
        "\n",
        "# Iterate over the dataset and check for out-of-range values\n",
        "out_of_range_count = 0\n",
        "\n",
        "for column in data.columns:\n",
        "    for value in data[column]:\n",
        "        if value < min_value or value > max_value:\n",
        "            out_of_range_count += 1\n",
        "            # You can print or process the out-of-range value as needed\n",
        "            print(\"Out of range value:\", value)\n",
        "\n",
        "# Print the count of out-of-range values\n",
        "print(\"Number of out-of-range values:\", out_of_range_count)"
      ]
    },
    {
      "cell_type": "code",
      "execution_count": null,
      "metadata": {
        "id": "JSQYvsFNvd-c"
      },
      "outputs": [],
      "source": [
        "X=data\n",
        "y=data\n",
        "X.shape, y.shape\n",
        "X_train, X_test, y_train, y_test=train_test_split(X, y, test_size=0.15, random_state=8) "
      ]
    },
    {
      "cell_type": "code",
      "execution_count": null,
      "metadata": {
        "colab": {
          "base_uri": "https://localhost:8080/"
        },
        "id": "0zax58SsxIuG",
        "outputId": "1a8f40bc-4d73-4b7f-85d3-96f48c89f064"
      },
      "outputs": [
        {
          "name": "stdout",
          "output_type": "stream",
          "text": [
            "(10175, 47) 8648 8648 xtest 1527 ytest: 1527 sum: 10175\n"
          ]
        }
      ],
      "source": [
        "d = len(X_train)+len(X_test)\n",
        "print(X.shape, len(X_train),len(y_train),\"xtest\",len(X_test),\"ytest:\",len(y_test),\"sum:\",d)"
      ]
    },
    {
      "cell_type": "code",
      "execution_count": null,
      "metadata": {
        "colab": {
          "base_uri": "https://localhost:8080/"
        },
        "id": "DMrds_eCxdEG",
        "outputId": "25e6e9af-ac74-4a54-e8ac-43cb53f9278d"
      },
      "outputs": [
        {
          "name": "stdout",
          "output_type": "stream",
          "text": [
            "       SEQN  SDDSRVYR  RIDSTATR  RIAGENDR  RIDAGEYR  RIDAGEMN  RIDRETH1  \\\n",
            "8495  82052         8         2         2        60         0         3   \n",
            "8706  82263         8         2         2         9         0         4   \n",
            "1833  75390         8         2         1        36         0         5   \n",
            "1158  74715         8         2         1        11         0         4   \n",
            "3699  77256         8         2         1        30         0         3   \n",
            "...     ...       ...       ...       ...       ...       ...       ...   \n",
            "6995  80552         8         2         2        41         0         3   \n",
            "2181  75738         8         2         1        47         0         2   \n",
            "2033  75590         8         2         1        45         0         5   \n",
            "9556  83113         8         2         2         8         0         3   \n",
            "4547  78104         8         2         1        61         0         1   \n",
            "\n",
            "      RIDRETH3  RIDEXMON  RIDEXAGM  ...  DMDHREDU  DMDHRMAR  DMDHSEDU  \\\n",
            "8495         3         2         0  ...         3         1         4   \n",
            "8706         4         1       117  ...         5         1         0   \n",
            "1833         6         1         0  ...         5         5         0   \n",
            "1158         4         1       141  ...         4         3         0   \n",
            "3699         3         2         0  ...         5         6         0   \n",
            "...        ...       ...       ...  ...       ...       ...       ...   \n",
            "6995         3         2         0  ...         5         3         0   \n",
            "2181         2         2         0  ...         1         2         0   \n",
            "2033         6         2         0  ...         5         1         5   \n",
            "9556         3         2       104  ...         4         1         3   \n",
            "4547         1         2         0  ...         1         1         1   \n",
            "\n",
            "      WTINT2YR  WTMEC2YR  SDMVPSU  SDMVSTRA  INDHHIN2  INDFMIN2  INDFMPIR  \n",
            "8495     88111     87383        2       113        12        12         0  \n",
            "8706      9890     10124        1       116         7         7         1  \n",
            "1833     28788     30759        2       111        14        14         4  \n",
            "1158      8546      9295        1       116         9         9         2  \n",
            "3699     13434     14239        2       105         6         6         1  \n",
            "...        ...       ...      ...       ...       ...       ...       ...  \n",
            "6995    113405    117833        1       105        14        14         4  \n",
            "2181     28521     29987        2       107        14        10         2  \n",
            "2033     20837     21778        1       107        15        15         5  \n",
            "9556     64947     65796        1       105        14        14         3  \n",
            "4547     13846     14569        1       107         5         5         0  \n",
            "\n",
            "[8648 rows x 47 columns]\n"
          ]
        }
      ],
      "source": [
        "print(X_train)\n",
        "model  = Sequential()\n",
        "model.add(Embedding(1000000,128,input_length=X.shape[1]))\n",
        "model.add(SpatialDropout1D(0.6))\n",
        "model.add(LSTM(200, dropout=0.5, recurrent_dropout=0.5))\n",
        "model.add(Dense(47,activation='sigmoid'))\n",
        "model.compile(loss='binary_crossentropy',optimizer='adam',metrics = ['accuracy'])"
      ]
    },
    {
      "cell_type": "code",
      "execution_count": null,
      "metadata": {
        "id": "m4zj9pm7zohV"
      },
      "outputs": [],
      "source": []
    },
    {
      "cell_type": "code",
      "execution_count": null,
      "metadata": {
        "colab": {
          "base_uri": "https://localhost:8080/"
        },
        "id": "ep2KLUh71ZNQ",
        "outputId": "596903b0-8fd8-44ad-e9c5-4f04a0a557aa"
      },
      "outputs": [
        {
          "name": "stdout",
          "output_type": "stream",
          "text": [
            "Epoch 1/20\n",
            "68/68 [==============================] - 123s 2s/step - loss: -37616.1758 - accuracy: 0.8822 - val_loss: -63758.4453 - val_accuracy: 0.9168\n",
            "Epoch 2/20\n",
            "68/68 [==============================] - 119s 2s/step - loss: -86201.7344 - accuracy: 0.9084 - val_loss: -105883.4844 - val_accuracy: 0.9168\n",
            "Epoch 3/20\n",
            "68/68 [==============================] - 119s 2s/step - loss: -128489.2969 - accuracy: 0.9084 - val_loss: -146701.0000 - val_accuracy: 0.9168\n",
            "Epoch 4/20\n",
            "68/68 [==============================] - 118s 2s/step - loss: -169801.2500 - accuracy: 0.9084 - val_loss: -186779.9531 - val_accuracy: 0.9168\n",
            "Epoch 5/20\n",
            "68/68 [==============================] - 118s 2s/step - loss: -210581.7031 - accuracy: 0.9084 - val_loss: -226548.6406 - val_accuracy: 0.9168\n",
            "Epoch 6/20\n",
            "68/68 [==============================] - 131s 2s/step - loss: -251302.2812 - accuracy: 0.9084 - val_loss: -266627.1250 - val_accuracy: 0.9168\n",
            "Epoch 7/20\n",
            "68/68 [==============================] - 118s 2s/step - loss: -292174.8750 - accuracy: 0.9084 - val_loss: -306383.3750 - val_accuracy: 0.9168\n",
            "Epoch 8/20\n",
            "68/68 [==============================] - 118s 2s/step - loss: -332734.3750 - accuracy: 0.9084 - val_loss: -346023.7188 - val_accuracy: 0.9168\n",
            "Epoch 9/20\n",
            "68/68 [==============================] - 118s 2s/step - loss: -373375.0000 - accuracy: 0.9084 - val_loss: -386079.9062 - val_accuracy: 0.9168\n",
            "Epoch 10/20\n",
            "68/68 [==============================] - 118s 2s/step - loss: -414275.9688 - accuracy: 0.9084 - val_loss: -425973.8438 - val_accuracy: 0.9168\n",
            "Epoch 11/20\n",
            "68/68 [==============================] - 134s 2s/step - loss: -454934.1562 - accuracy: 0.9084 - val_loss: -465654.0625 - val_accuracy: 0.9168\n",
            "Epoch 12/20\n",
            "68/68 [==============================] - 118s 2s/step - loss: -495451.2500 - accuracy: 0.9084 - val_loss: -505388.5625 - val_accuracy: 0.9168\n",
            "Epoch 13/20\n",
            "68/68 [==============================] - 119s 2s/step - loss: -535909.1875 - accuracy: 0.9084 - val_loss: -544854.5625 - val_accuracy: 0.9168\n",
            "Epoch 14/20\n",
            "68/68 [==============================] - 119s 2s/step - loss: -576276.3125 - accuracy: 0.9084 - val_loss: -584319.8750 - val_accuracy: 0.9168\n",
            "Epoch 15/20\n",
            "68/68 [==============================] - 118s 2s/step - loss: -616608.7500 - accuracy: 0.9084 - val_loss: -623864.8125 - val_accuracy: 0.9168\n",
            "Epoch 16/20\n",
            "68/68 [==============================] - 129s 2s/step - loss: -656941.0625 - accuracy: 0.9084 - val_loss: -663170.6875 - val_accuracy: 0.9168\n",
            "Epoch 17/20\n",
            "68/68 [==============================] - 116s 2s/step - loss: -697188.7500 - accuracy: 0.9084 - val_loss: -702569.6250 - val_accuracy: 0.9168\n",
            "Epoch 18/20\n",
            "68/68 [==============================] - 117s 2s/step - loss: -737409.6875 - accuracy: 0.9084 - val_loss: -741988.3125 - val_accuracy: 0.9168\n",
            "Epoch 19/20\n",
            "68/68 [==============================] - 121s 2s/step - loss: -777641.1875 - accuracy: 0.9084 - val_loss: -781280.2500 - val_accuracy: 0.9168\n",
            "Epoch 20/20\n",
            "68/68 [==============================] - 117s 2s/step - loss: -817822.8750 - accuracy: 0.9084 - val_loss: -820646.0000 - val_accuracy: 0.9168\n",
            "48/48 [==============================] - 1s 21ms/step\n"
          ]
        }
      ],
      "source": [
        "batch_size = 128\n",
        "checkPoint = ModelCheckpoint('model_checkpoint.h5',\n",
        "                             monitor='loss',\n",
        "                             verbose=1,\n",
        "                             save_best_only=True, mode='min')\n",
        "history = model.fit(X_train, y_train, validation_data=(X_test, y_test), epochs=20, batch_size = batch_size)\n",
        "\n",
        "y_pred = model.predict(X_test)"
      ]
    },
    {
      "cell_type": "code",
      "execution_count": null,
      "metadata": {
        "id": "AmVsOCdN2BP2"
      },
      "outputs": [],
      "source": [
        "def transform_predict(message: list):\n",
        "    return pad_sequences(tokenizer.texts_to_sequences(message), maxlen=28, dtype='int32', value=0) \n",
        "  \n",
        "def predict(X):\n",
        "    X = transform_predict(X)\n",
        "    return model.predict(X)[0]"
      ]
    },
    {
      "cell_type": "code",
      "execution_count": null,
      "metadata": {
        "colab": {
          "base_uri": "https://localhost:8080/",
          "height": 927
        },
        "id": "BTptv-TdJTkn",
        "outputId": "0a2483b3-7347-48d4-f5ea-7a488bb06828"
      },
      "outputs": [
        {
          "data": {
            "image/png": "[encoded data removed]",
            "text/plain": [
              "<Figure size 640x480 with 1 Axes>"
            ]
          },
          "metadata": {},
          "output_type": "display_data"
        },
        {
          "data": {
            "image/png": "[encoded data removed]",
            "text/plain": [
              "<Figure size 640x480 with 1 Axes>"
            ]
          },
          "metadata": {},
          "output_type": "display_data"
        }
      ],
      "source": [
        "def plot_learning_curve(history):\n",
        "    plt.plot(history.history['loss'])\n",
        "    plt.plot(history.history['val_loss'])\n",
        "    plt.title('Model Loss')\n",
        "    plt.ylabel('Loss')\n",
        "    plt.xlabel('Epoch')\n",
        "    plt.legend(['Train', 'Validation'], loc='upper left')\n",
        "    plt.show()\n",
        "    \n",
        "    plt.plot(history.history['accuracy'])\n",
        "    plt.plot(history.history['val_accuracy'])\n",
        "    plt.title('Model Accuracy')\n",
        "    plt.ylabel('Accuracy')\n",
        "    plt.xlabel('Epoch')\n",
        "    plt.legend(['Train', 'Validation'], loc='upper left')\n",
        "    plt.show()\n",
        "\n",
        "# Plot the learning curve\n",
        "plot_learning_curve(history)"
      ]
    },
    {
      "cell_type": "code",
      "execution_count": 14,
      "metadata": {
        "id": "VTufKd3_JWs4"
      },
      "outputs": [
        {
          "ename": "NameError",
          "evalue": "name 'model' is not defined",
          "output_type": "error",
          "traceback": [
            "\u001b[1;31m---------------------------------------------------------------------------\u001b[0m",
            "\u001b[1;31mNameError\u001b[0m                                 Traceback (most recent call last)",
            "\u001b[1;32mc:\\Users\\DELL\\Desktop\\pythonproj\\lstm-traindataset.ipynb Cell 12\u001b[0m in \u001b[0;36m1\n\u001b[1;32m----> <a href='vscode-notebook-cell:/c%3A/Users/DELL/Desktop/pythonproj/lstm-traindataset.ipynb#X13sZmlsZQ%3D%3D?line=0'>1</a>\u001b[0m model\u001b[39m.\u001b[39msave(\u001b[39m'\u001b[39m\u001b[39mmodel2\u001b[39m\u001b[39m'\u001b[39m)\n",
            "\u001b[1;31mNameError\u001b[0m: name 'model' is not defined"
          ]
        }
      ],
      "source": [
        "model.save('model2')\n"
      ]
    },
    {
      "cell_type": "code",
      "execution_count": null,
      "metadata": {},
      "outputs": [],
      "source": []
    }
  ],
  "metadata": {
    "colab": {
      "include_colab_link": true,
      "name": "Welcome To Colaboratory",
      "provenance": []
    },
    "kernelspec": {
      "display_name": "Python 3",
      "name": "python3"
    },
    "language_info": {
      "codemirror_mode": {
        "name": "ipython",
        "version": 3
      },
      "file_extension": ".py",
      "mimetype": "text/x-python",
      "name": "python",
      "nbconvert_exporter": "python",
      "pygments_lexer": "ipython3",
      "version": "3.10.8"
    }
  },
  "nbformat": 4,
  "nbformat_minor": 0
}
