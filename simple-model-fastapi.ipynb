{
  "cells": [
    {
      "cell_type": "code",
      "execution_count": 3,
      "metadata": {
        "id": "qzFgqrhCfc8y"
      },
      "outputs": [],
      "source": []
    },
    {
      "cell_type": "code",
      "execution_count": 1,
      "metadata": {
        "colab": {
          "base_uri": "https://localhost:8080/"
        },
        "id": "m_kQzE56fpL1",
        "outputId": "8b2aa110-b504-4bfb-c18f-7894c4fcfe63"
      },
      "outputs": [
        {
          "name": "stdout",
          "output_type": "stream",
          "text": [
            "Model: \"sequential\"\n",
            "_________________________________________________________________\n",
            " Layer (type)                Output Shape              Param #   \n",
            "=================================================================\n",
            " dense (Dense)               (None, 4)                 8         \n",
            "                                                                 \n",
            " dense_1 (Dense)             (None, 8)                 40        \n",
            "                                                                 \n",
            " dense_2 (Dense)             (None, 1)                 9         \n",
            "                                                                 \n",
            "=================================================================\n",
            "Total params: 57\n",
            "Trainable params: 57\n",
            "Non-trainable params: 0\n",
            "_________________________________________________________________\n"
          ]
        }
      ],
      "source": [
        "import tensorflow as tf\n",
        "import numpy as np\n",
        "from tensorflow import keras\n",
        "model = tf.keras.Sequential([\n",
        "   keras.layers.Dense(units=4, input_shape=[1]),\n",
        "   keras.layers.Dense(units=8),\n",
        "   keras.layers.Dense(units=1),\n",
        "   ])\n",
        "model.summary()"
      ]
    },
    {
      "cell_type": "code",
      "execution_count": 2,
      "metadata": {
        "colab": {
          "base_uri": "https://localhost:8080/",
          "height": 422
        },
        "id": "feDLdIpzfrUK",
        "outputId": "11d5f021-6f3b-4185-dfec-de34d46f4fb2"
      },
      "outputs": [
        {
          "name": "stdout",
          "output_type": "stream",
          "text": [
            "You must install pydot (`pip install pydot`) and install graphviz (see instructions at https://graphviz.gitlab.io/download/) for plot_model/model_to_dot to work.\n"
          ]
        }
      ],
      "source": [
        "tf.keras.utils.plot_model(model, show_shapes=True)"
      ]
    },
    {
      "cell_type": "code",
      "execution_count": 4,
      "metadata": {
        "colab": {
          "base_uri": "https://localhost:8080/"
        },
        "id": "xnxZ_MoCf1Dd",
        "outputId": "420f339c-7f97-41b0-952b-5a12c0adcfce"
      },
      "outputs": [
        {
          "name": "stdout",
          "output_type": "stream",
          "text": [
            "Epoch 1/100\n",
            "1/1 [==============================] - 1s 1s/step - loss: 13.6312\n",
            "Epoch 2/100\n",
            "1/1 [==============================] - 0s 15ms/step - loss: 5.5411\n",
            "Epoch 3/100\n",
            "1/1 [==============================] - 0s 12ms/step - loss: 1.9543\n",
            "Epoch 4/100\n",
            "1/1 [==============================] - 0s 9ms/step - loss: 0.9562\n",
            "Epoch 5/100\n",
            "1/1 [==============================] - 0s 5ms/step - loss: 0.7797\n",
            "Epoch 6/100\n",
            "1/1 [==============================] - 0s 7ms/step - loss: 0.6806\n",
            "Epoch 7/100\n",
            "1/1 [==============================] - 0s 21ms/step - loss: 0.5934\n",
            "Epoch 8/100\n",
            "1/1 [==============================] - 0s 8ms/step - loss: 0.5162\n",
            "Epoch 9/100\n",
            "1/1 [==============================] - 0s 18ms/step - loss: 0.4478\n",
            "Epoch 10/100\n",
            "1/1 [==============================] - 0s 12ms/step - loss: 0.3876\n",
            "Epoch 11/100\n",
            "1/1 [==============================] - 0s 16ms/step - loss: 0.3346\n",
            "Epoch 12/100\n",
            "1/1 [==============================] - 0s 14ms/step - loss: 0.2882\n",
            "Epoch 13/100\n",
            "1/1 [==============================] - 0s 12ms/step - loss: 0.2477\n",
            "Epoch 14/100\n",
            "1/1 [==============================] - 0s 7ms/step - loss: 0.2124\n",
            "Epoch 15/100\n",
            "1/1 [==============================] - 0s 10ms/step - loss: 0.1817\n",
            "Epoch 16/100\n",
            "1/1 [==============================] - 0s 13ms/step - loss: 0.1551\n",
            "Epoch 17/100\n",
            "1/1 [==============================] - 0s 12ms/step - loss: 0.1322\n",
            "Epoch 18/100\n",
            "1/1 [==============================] - 0s 11ms/step - loss: 0.1124\n",
            "Epoch 19/100\n",
            "1/1 [==============================] - 0s 11ms/step - loss: 0.0954\n",
            "Epoch 20/100\n",
            "1/1 [==============================] - 0s 12ms/step - loss: 0.0809\n",
            "Epoch 21/100\n",
            "1/1 [==============================] - 0s 18ms/step - loss: 0.0684\n",
            "Epoch 22/100\n",
            "1/1 [==============================] - 0s 12ms/step - loss: 0.0578\n",
            "Epoch 23/100\n",
            "1/1 [==============================] - 0s 9ms/step - loss: 0.0487\n",
            "Epoch 24/100\n",
            "1/1 [==============================] - 0s 16ms/step - loss: 0.0411\n",
            "Epoch 25/100\n",
            "1/1 [==============================] - 0s 13ms/step - loss: 0.0345\n",
            "Epoch 26/100\n",
            "1/1 [==============================] - 0s 7ms/step - loss: 0.0290\n",
            "Epoch 27/100\n",
            "1/1 [==============================] - 0s 6ms/step - loss: 0.0244\n",
            "Epoch 28/100\n",
            "1/1 [==============================] - 0s 13ms/step - loss: 0.0204\n",
            "Epoch 29/100\n",
            "1/1 [==============================] - 0s 14ms/step - loss: 0.0171\n",
            "Epoch 30/100\n",
            "1/1 [==============================] - 0s 14ms/step - loss: 0.0143\n",
            "Epoch 31/100\n",
            "1/1 [==============================] - 0s 7ms/step - loss: 0.0120\n",
            "Epoch 32/100\n",
            "1/1 [==============================] - 0s 20ms/step - loss: 0.0100\n",
            "Epoch 33/100\n",
            "1/1 [==============================] - 0s 10ms/step - loss: 0.0084\n",
            "Epoch 34/100\n",
            "1/1 [==============================] - 0s 6ms/step - loss: 0.0070\n",
            "Epoch 35/100\n",
            "1/1 [==============================] - 0s 7ms/step - loss: 0.0058\n",
            "Epoch 36/100\n",
            "1/1 [==============================] - 0s 8ms/step - loss: 0.0049\n",
            "Epoch 37/100\n",
            "1/1 [==============================] - 0s 7ms/step - loss: 0.0040\n",
            "Epoch 38/100\n",
            "1/1 [==============================] - 0s 8ms/step - loss: 0.0034\n",
            "Epoch 39/100\n",
            "1/1 [==============================] - 0s 6ms/step - loss: 0.0028\n",
            "Epoch 40/100\n",
            "1/1 [==============================] - 0s 9ms/step - loss: 0.0023\n",
            "Epoch 41/100\n",
            "1/1 [==============================] - 0s 10ms/step - loss: 0.0019\n",
            "Epoch 42/100\n",
            "1/1 [==============================] - 0s 12ms/step - loss: 0.0016\n",
            "Epoch 43/100\n",
            "1/1 [==============================] - 0s 7ms/step - loss: 0.0013\n",
            "Epoch 44/100\n",
            "1/1 [==============================] - 0s 7ms/step - loss: 0.0011\n",
            "Epoch 45/100\n",
            "1/1 [==============================] - 0s 9ms/step - loss: 9.2511e-04\n",
            "Epoch 46/100\n",
            "1/1 [==============================] - 0s 8ms/step - loss: 7.6842e-04\n",
            "Epoch 47/100\n",
            "1/1 [==============================] - 0s 6ms/step - loss: 6.3813e-04\n",
            "Epoch 48/100\n",
            "1/1 [==============================] - 0s 7ms/step - loss: 5.2983e-04\n",
            "Epoch 49/100\n",
            "1/1 [==============================] - 0s 9ms/step - loss: 4.3984e-04\n",
            "Epoch 50/100\n",
            "1/1 [==============================] - 0s 6ms/step - loss: 3.6507e-04\n",
            "Epoch 51/100\n",
            "1/1 [==============================] - 0s 9ms/step - loss: 3.0296e-04\n",
            "Epoch 52/100\n",
            "1/1 [==============================] - 0s 34ms/step - loss: 2.5139e-04\n",
            "Epoch 53/100\n",
            "1/1 [==============================] - 0s 10ms/step - loss: 2.0857e-04\n",
            "Epoch 54/100\n",
            "1/1 [==============================] - 0s 19ms/step - loss: 1.7303e-04\n",
            "Epoch 55/100\n",
            "1/1 [==============================] - 0s 8ms/step - loss: 1.4353e-04\n",
            "Epoch 56/100\n",
            "1/1 [==============================] - 0s 6ms/step - loss: 1.1905e-04\n",
            "Epoch 57/100\n",
            "1/1 [==============================] - 0s 7ms/step - loss: 9.8731e-05\n",
            "Epoch 58/100\n",
            "1/1 [==============================] - 0s 8ms/step - loss: 8.1876e-05\n",
            "Epoch 59/100\n",
            "1/1 [==============================] - 0s 7ms/step - loss: 6.7895e-05\n",
            "Epoch 60/100\n",
            "1/1 [==============================] - 0s 5ms/step - loss: 5.6296e-05\n",
            "Epoch 61/100\n",
            "1/1 [==============================] - 0s 7ms/step - loss: 4.6678e-05\n",
            "Epoch 62/100\n",
            "1/1 [==============================] - 0s 6ms/step - loss: 3.8700e-05\n",
            "Epoch 63/100\n",
            "1/1 [==============================] - 0s 14ms/step - loss: 3.2084e-05\n",
            "Epoch 64/100\n",
            "1/1 [==============================] - 0s 5ms/step - loss: 2.6598e-05\n",
            "Epoch 65/100\n",
            "1/1 [==============================] - 0s 9ms/step - loss: 2.2050e-05\n",
            "Epoch 66/100\n",
            "1/1 [==============================] - 0s 7ms/step - loss: 1.8278e-05\n",
            "Epoch 67/100\n",
            "1/1 [==============================] - 0s 15ms/step - loss: 1.5150e-05\n",
            "Epoch 68/100\n",
            "1/1 [==============================] - 0s 11ms/step - loss: 1.2559e-05\n",
            "Epoch 69/100\n",
            "1/1 [==============================] - 0s 10ms/step - loss: 1.0409e-05\n",
            "Epoch 70/100\n",
            "1/1 [==============================] - 0s 16ms/step - loss: 8.6275e-06\n",
            "Epoch 71/100\n",
            "1/1 [==============================] - 0s 18ms/step - loss: 7.1512e-06\n",
            "Epoch 72/100\n",
            "1/1 [==============================] - 0s 9ms/step - loss: 5.9269e-06\n",
            "Epoch 73/100\n",
            "1/1 [==============================] - 0s 10ms/step - loss: 4.9124e-06\n",
            "Epoch 74/100\n",
            "1/1 [==============================] - 0s 10ms/step - loss: 4.0714e-06\n",
            "Epoch 75/100\n",
            "1/1 [==============================] - 0s 7ms/step - loss: 3.3738e-06\n",
            "Epoch 76/100\n",
            "1/1 [==============================] - 0s 6ms/step - loss: 2.7963e-06\n",
            "Epoch 77/100\n",
            "1/1 [==============================] - 0s 8ms/step - loss: 2.3176e-06\n",
            "Epoch 78/100\n",
            "1/1 [==============================] - 0s 7ms/step - loss: 1.9206e-06\n",
            "Epoch 79/100\n",
            "1/1 [==============================] - 0s 6ms/step - loss: 1.5917e-06\n",
            "Epoch 80/100\n",
            "1/1 [==============================] - 0s 6ms/step - loss: 1.3188e-06\n",
            "Epoch 81/100\n",
            "1/1 [==============================] - 0s 6ms/step - loss: 1.0933e-06\n",
            "Epoch 82/100\n",
            "1/1 [==============================] - 0s 15ms/step - loss: 9.0598e-07\n",
            "Epoch 83/100\n",
            "1/1 [==============================] - 0s 6ms/step - loss: 7.5073e-07\n",
            "Epoch 84/100\n",
            "1/1 [==============================] - 0s 14ms/step - loss: 6.2200e-07\n",
            "Epoch 85/100\n",
            "1/1 [==============================] - 0s 9ms/step - loss: 5.1563e-07\n",
            "Epoch 86/100\n",
            "1/1 [==============================] - 0s 9ms/step - loss: 4.2716e-07\n",
            "Epoch 87/100\n",
            "1/1 [==============================] - 0s 7ms/step - loss: 3.5402e-07\n",
            "Epoch 88/100\n",
            "1/1 [==============================] - 0s 6ms/step - loss: 2.9330e-07\n",
            "Epoch 89/100\n",
            "1/1 [==============================] - 0s 6ms/step - loss: 2.4321e-07\n",
            "Epoch 90/100\n",
            "1/1 [==============================] - 0s 10ms/step - loss: 2.0147e-07\n",
            "Epoch 91/100\n",
            "1/1 [==============================] - 0s 15ms/step - loss: 1.6690e-07\n",
            "Epoch 92/100\n",
            "1/1 [==============================] - 0s 13ms/step - loss: 1.3831e-07\n",
            "Epoch 93/100\n",
            "1/1 [==============================] - 0s 16ms/step - loss: 1.1462e-07\n",
            "Epoch 94/100\n",
            "1/1 [==============================] - 0s 7ms/step - loss: 9.4962e-08\n",
            "Epoch 95/100\n",
            "1/1 [==============================] - 0s 8ms/step - loss: 7.8699e-08\n",
            "Epoch 96/100\n",
            "1/1 [==============================] - 0s 11ms/step - loss: 6.5202e-08\n",
            "Epoch 97/100\n",
            "1/1 [==============================] - 0s 6ms/step - loss: 5.4031e-08\n",
            "Epoch 98/100\n",
            "1/1 [==============================] - 0s 7ms/step - loss: 4.4753e-08\n",
            "Epoch 99/100\n",
            "1/1 [==============================] - 0s 5ms/step - loss: 3.7068e-08\n",
            "Epoch 100/100\n",
            "1/1 [==============================] - 0s 14ms/step - loss: 3.0716e-08\n"
          ]
        },
        {
          "data": {
            "text/plain": [
              "<keras.callbacks.History at 0x1c17aee7f40>"
            ]
          },
          "execution_count": 4,
          "metadata": {},
          "output_type": "execute_result"
        }
      ],
      "source": [
        "xs = np.array([-1.0,  0.0, 1.0, 2.0, 3.0, 4.0], dtype=float)\n",
        "ys = np.array([-3.0, -1.0, 1.0, 3.0, 5.0, 7.0], dtype=float)\n",
        "model.compile(optimizer='sgd', loss='mean_squared_error')\n",
        "model.fit(xs, ys, epochs=100)"
      ]
    },
    {
      "cell_type": "code",
      "execution_count": 3,
      "metadata": {
        "colab": {
          "base_uri": "https://localhost:8080/"
        },
        "id": "FBisbznwf9kN",
        "outputId": "49122ab8-bd7f-4f49-a968-5d7ed9af2986"
      },
      "outputs": [
        {
          "name": "stdout",
          "output_type": "stream",
          "text": [
            "1/1 [==============================] - 0s 346ms/step\n",
            "[[2.3182743]]\n"
          ]
        }
      ],
      "source": [
        "print(model.predict([10.0]))"
      ]
    },
    {
      "cell_type": "code",
      "execution_count": 4,
      "metadata": {
        "colab": {
          "base_uri": "https://localhost:8080/"
        },
        "id": "U1HqSkk0gCwa",
        "outputId": "31468d67-5b33-4bc6-d617-1d65cd72b036"
      },
      "outputs": [
        {
          "name": "stdout",
          "output_type": "stream",
          "text": [
            "WARNING:tensorflow:Compiled the loaded model, but the compiled metrics have yet to be built. `model.compile_metrics` will be empty until you train or evaluate the model.\n",
            "INFO:tensorflow:Assets written to: model\\assets\n"
          ]
        }
      ],
      "source": [
        "model.save('model')"
      ]
    },
    {
      "cell_type": "code",
      "execution_count": 5,
      "metadata": {
        "colab": {
          "base_uri": "https://localhost:8080/"
        },
        "id": "xdVSJjsHhNam",
        "outputId": "a342b5cf-6a26-45d7-f6b8-4c64282619c4"
      },
      "outputs": [
        {
          "name": "stdout",
          "output_type": "stream",
          "text": [
            "Collecting fastapi\n",
            "  Using cached fastapi-0.95.2-py3-none-any.whl (56 kB)\n",
            "Requirement already satisfied: nest-asyncio in c:\\users\\dell\\anaconda3\\envs\\tf\\lib\\site-packages (1.5.5)\n",
            "Collecting pyngrok\n",
            "  Downloading pyngrok-6.0.0.tar.gz (681 kB)\n",
            "     ------------------------------------- 681.2/681.2 kB 25.3 kB/s eta 0:00:00\n",
            "  Preparing metadata (setup.py): started\n",
            "  Preparing metadata (setup.py): finished with status 'done'\n",
            "Collecting uvicorn\n",
            "  Using cached uvicorn-0.22.0-py3-none-any.whl (58 kB)\n",
            "Collecting pydantic!=1.7,!=1.7.1,!=1.7.2,!=1.7.3,!=1.8,!=1.8.1,<2.0.0,>=1.6.2\n",
            "  Downloading pydantic-1.10.7-cp310-cp310-win_amd64.whl (2.1 MB)\n",
            "     ---------------------------------------- 2.1/2.1 MB 38.1 kB/s eta 0:00:00\n",
            "Collecting starlette<0.28.0,>=0.27.0\n",
            "  Using cached starlette-0.27.0-py3-none-any.whl (66 kB)\n",
            "Requirement already satisfied: PyYAML in c:\\users\\dell\\anaconda3\\envs\\tf\\lib\\site-packages (from pyngrok) (6.0)\n",
            "Collecting h11>=0.8\n",
            "  Using cached h11-0.14.0-py3-none-any.whl (58 kB)\n",
            "Requirement already satisfied: click>=7.0 in c:\\users\\dell\\anaconda3\\envs\\tf\\lib\\site-packages (from uvicorn) (8.0.4)\n",
            "Requirement already satisfied: colorama in c:\\users\\dell\\anaconda3\\envs\\tf\\lib\\site-packages (from click>=7.0->uvicorn) (0.4.5)\n",
            "Requirement already satisfied: typing-extensions>=4.2.0 in c:\\users\\dell\\anaconda3\\envs\\tf\\lib\\site-packages (from pydantic!=1.7,!=1.7.1,!=1.7.2,!=1.7.3,!=1.8,!=1.8.1,<2.0.0,>=1.6.2->fastapi) (4.3.0)\n",
            "Requirement already satisfied: anyio<5,>=3.4.0 in c:\\users\\dell\\anaconda3\\envs\\tf\\lib\\site-packages (from starlette<0.28.0,>=0.27.0->fastapi) (3.5.0)\n",
            "Requirement already satisfied: sniffio>=1.1 in c:\\users\\dell\\anaconda3\\envs\\tf\\lib\\site-packages (from anyio<5,>=3.4.0->starlette<0.28.0,>=0.27.0->fastapi) (1.2.0)\n",
            "Requirement already satisfied: idna>=2.8 in c:\\users\\dell\\anaconda3\\envs\\tf\\lib\\site-packages (from anyio<5,>=3.4.0->starlette<0.28.0,>=0.27.0->fastapi) (3.4)\n",
            "Building wheels for collected packages: pyngrok\n",
            "  Building wheel for pyngrok (setup.py): started\n",
            "  Building wheel for pyngrok (setup.py): finished with status 'done'\n",
            "  Created wheel for pyngrok: filename=pyngrok-6.0.0-py3-none-any.whl size=19868 sha256=f76c0f17fa1a28653c8d0a9474931689f4b4559f5e3163a3fc0173eb22a7d71b\n",
            "  Stored in directory: c:\\users\\dell\\appdata\\local\\pip\\cache\\wheels\\5c\\42\\78\\0c3d438d7f5730451a25f7ac6cbf4391759d22a67576ed7c2c\n",
            "Successfully built pyngrok\n",
            "Installing collected packages: pyngrok, pydantic, h11, uvicorn, starlette, fastapi\n",
            "Successfully installed fastapi-0.95.2 h11-0.14.0 pydantic-1.10.7 pyngrok-6.0.0 starlette-0.27.0 uvicorn-0.22.0\n"
          ]
        }
      ],
      "source": [
        "!pip install fastapi nest-asyncio pyngrok uvicorn"
      ]
    },
    {
      "cell_type": "code",
      "execution_count": 10,
      "metadata": {
        "colab": {
          "base_uri": "https://localhost:8080/"
        },
        "id": "xlIoXRMngHpi",
        "outputId": "146473b3-02b9-4ef8-8cbb-ba705bd5169d"
      },
      "outputs": [],
      "source": [
        "# from fastapi import FastAPI\n",
        "# from uvicorn import Config, Server\n",
        "# import asyncio\n",
        "# app = FastAPI()\n",
        "\n",
        "# @app.get(\"/\")\n",
        "# async def root():\n",
        "#     return {\"message\": \"Hello World\"}\n",
        "\n",
        "# config = Config(app)\n",
        "# server = Server(config=config)\n",
        "\n",
        "# loop = asyncio.get_event_loop()\n",
        "# loop.create_task(server.serve())"
      ]
    },
    {
      "cell_type": "code",
      "execution_count": null,
      "metadata": {
        "id": "z5e9Gjckg_68"
      },
      "outputs": [
        {
          "name": "stdout",
          "output_type": "stream",
          "text": [
            "WARNING:tensorflow:No training configuration found in save file, so the model was *not* compiled. Compile it manually.\n"
          ]
        },
        {
          "name": "stderr",
          "output_type": "stream",
          "text": [
            "INFO:     Started server process [6816]\n",
            "INFO:     Waiting for application startup.\n",
            "INFO:     Application startup complete.\n",
            "INFO:     Uvicorn running on http://127.0.0.1:8000 (Press CTRL+C to quit)\n"
          ]
        },
        {
          "name": "stdout",
          "output_type": "stream",
          "text": [
            "INFO:     127.0.0.1:63512 - \"GET / HTTP/1.1\" 200 OK\n",
            "INFO:     127.0.0.1:63515 - \"POST /predict/ HTTP/1.1\" 422 Unprocessable Entity\n",
            "1/1 [==============================] - 0s 308ms/step\n",
            "INFO:     127.0.0.1:63526 - \"POST /predict/ HTTP/1.1\" 200 OK\n",
            "INFO:     127.0.0.1:63615 - \"GET / HTTP/1.1\" 200 OK\n",
            "INFO:     127.0.0.1:63616 - \"GET /docs HTTP/1.1\" 200 OK\n",
            "INFO:     127.0.0.1:63616 - \"GET /openapi.json HTTP/1.1\" 200 OK\n",
            "1/1 [==============================] - 0s 48ms/step\n",
            "INFO:     127.0.0.1:63621 - \"POST /predict/ HTTP/1.1\" 200 OK\n"
          ]
        }
      ],
      "source": [
        "import tensorflow as tf\n",
        "import asyncio\n",
        "from fastapi import FastAPI\n",
        "from uvicorn import Config, Server\n",
        "from pydantic import BaseModel\n",
        "\n",
        "import numpy as np\n",
        "\n",
        "MODEL = tf.keras.models.load_model('model/')\n",
        "app = FastAPI()\n",
        "\n",
        "class UserInput(BaseModel):\n",
        "    user_input: float\n",
        "\n",
        "@app.get('/')\n",
        "async def index():\n",
        "    return {\"Message\": \"This is Index\"}\n",
        "config = Config(app)\n",
        "server = Server(config=config)\n",
        "\n",
        "loop = asyncio.get_event_loop()\n",
        "loop.create_task(server.serve())\n",
        "\n",
        "@app.post('/predict/')\n",
        "async def predict(UserInput: UserInput):\n",
        "\n",
        "    prediction = MODEL.predict([UserInput.user_input])\n",
        "\n",
        "    return {\"prediction\": float(prediction)}"
      ]
    },
    {
      "cell_type": "code",
      "execution_count": 22,
      "metadata": {
        "id": "iEHVBzhFhnUP"
      },
      "outputs": [],
      "source": []
    },
    {
      "cell_type": "code",
      "execution_count": null,
      "metadata": {
        "id": "tM_Qizm-hq7g"
      },
      "outputs": [],
      "source": []
    }
  ],
  "metadata": {
    "colab": {
      "provenance": []
    },
    "kernelspec": {
      "display_name": "Python 3",
      "name": "python3"
    },
    "language_info": {
      "codemirror_mode": {
        "name": "ipython",
        "version": 3
      },
      "file_extension": ".py",
      "mimetype": "text/x-python",
      "name": "python",
      "nbconvert_exporter": "python",
      "pygments_lexer": "ipython3",
      "version": "3.10.8"
    }
  },
  "nbformat": 4,
  "nbformat_minor": 0
}
